{
 "cells": [
  {
   "cell_type": "markdown",
   "id": "f76d1b45",
   "metadata": {},
   "source": [
    "# EXPLORATORY DATA ANALYSIS"
   ]
  },
  {
   "cell_type": "markdown",
   "id": "4796858f",
   "metadata": {},
   "source": [
    "## Topic: *Student Mental Health*"
   ]
  },
  {
   "cell_type": "markdown",
   "id": "47d3d2b4",
   "metadata": {},
   "source": [
    "### Objective\n",
    "- To compare age and depression "
   ]
  },
  {
   "cell_type": "markdown",
   "id": "50a43bea",
   "metadata": {},
   "source": [
    "### Introduction\n",
    "-> This is a basic EDA to analyze the relationship between age and various mental health issues present. It compares the age of the person and whether age effects mental health."
   ]
  },
  {
   "cell_type": "markdown",
   "id": "78cd1808",
   "metadata": {},
   "source": [
    "### Kaggle Link:\n",
    "This code was taken from kaggle under the name of 'Students Mental Health':\n",
    "\n",
    "https://www.kaggle.com/datasets/shariful07/student-mental-health"
   ]
  },
  {
   "cell_type": "markdown",
   "id": "d7bb6e2b",
   "metadata": {},
   "source": [
    "#### Importing different methods"
   ]
  },
  {
   "cell_type": "code",
   "execution_count": 3,
   "id": "76cbf2fa",
   "metadata": {},
   "outputs": [],
   "source": [
    "#importing numpy pandas mathplot and other methods\n",
    "\n",
    "import pandas as pd #is used to manipulate data\n",
    "import numpy as np #is used for mathematical calculation\n",
    "import matplotlib.pyplot as plt #is used for data visualization\n",
    "%matplotlib inline\n",
    "import seaborn as sns #also used for data visualization"
   ]
  },
  {
   "cell_type": "markdown",
   "id": "7a2ddf3f",
   "metadata": {},
   "source": [
    "#### Now, Let's read the data file"
   ]
  },
  {
   "cell_type": "code",
   "execution_count": 4,
   "id": "adeb17e5",
   "metadata": {},
   "outputs": [],
   "source": [
    "#reading the data file\n",
    "df= pd.read_csv('Student Mental Health.csv')"
   ]
  },
  {
   "cell_type": "code",
   "execution_count": 5,
   "id": "c0624668",
   "metadata": {},
   "outputs": [
    {
     "data": {
      "text/html": [
       "<div>\n",
       "<style scoped>\n",
       "    .dataframe tbody tr th:only-of-type {\n",
       "        vertical-align: middle;\n",
       "    }\n",
       "\n",
       "    .dataframe tbody tr th {\n",
       "        vertical-align: top;\n",
       "    }\n",
       "\n",
       "    .dataframe thead th {\n",
       "        text-align: right;\n",
       "    }\n",
       "</style>\n",
       "<table border=\"1\" class=\"dataframe\">\n",
       "  <thead>\n",
       "    <tr style=\"text-align: right;\">\n",
       "      <th></th>\n",
       "      <th>Timestamp</th>\n",
       "      <th>Choose your gender</th>\n",
       "      <th>Age</th>\n",
       "      <th>Course</th>\n",
       "      <th>Year of Study</th>\n",
       "      <th>CGPA</th>\n",
       "      <th>Marital status</th>\n",
       "      <th>Depression?</th>\n",
       "      <th>Anxiety?</th>\n",
       "      <th>Panic attack?</th>\n",
       "      <th>Treatment</th>\n",
       "    </tr>\n",
       "  </thead>\n",
       "  <tbody>\n",
       "    <tr>\n",
       "      <th>0</th>\n",
       "      <td>8/7/2020 12:02</td>\n",
       "      <td>Female</td>\n",
       "      <td>18.0</td>\n",
       "      <td>Engineering</td>\n",
       "      <td>year 1</td>\n",
       "      <td>3.00 - 3.49</td>\n",
       "      <td>No</td>\n",
       "      <td>Yes</td>\n",
       "      <td>No</td>\n",
       "      <td>Yes</td>\n",
       "      <td>No</td>\n",
       "    </tr>\n",
       "    <tr>\n",
       "      <th>1</th>\n",
       "      <td>8/7/2020 12:04</td>\n",
       "      <td>Male</td>\n",
       "      <td>21.0</td>\n",
       "      <td>Islamic education</td>\n",
       "      <td>year 2</td>\n",
       "      <td>3.00 - 3.49</td>\n",
       "      <td>No</td>\n",
       "      <td>No</td>\n",
       "      <td>Yes</td>\n",
       "      <td>No</td>\n",
       "      <td>No</td>\n",
       "    </tr>\n",
       "    <tr>\n",
       "      <th>2</th>\n",
       "      <td>8/7/2020 12:05</td>\n",
       "      <td>Male</td>\n",
       "      <td>19.0</td>\n",
       "      <td>BIT</td>\n",
       "      <td>Year 1</td>\n",
       "      <td>3.00 - 3.49</td>\n",
       "      <td>No</td>\n",
       "      <td>Yes</td>\n",
       "      <td>Yes</td>\n",
       "      <td>Yes</td>\n",
       "      <td>No</td>\n",
       "    </tr>\n",
       "    <tr>\n",
       "      <th>3</th>\n",
       "      <td>8/7/2020 12:06</td>\n",
       "      <td>Female</td>\n",
       "      <td>22.0</td>\n",
       "      <td>Laws</td>\n",
       "      <td>year 3</td>\n",
       "      <td>3.00 - 3.49</td>\n",
       "      <td>Yes</td>\n",
       "      <td>Yes</td>\n",
       "      <td>No</td>\n",
       "      <td>No</td>\n",
       "      <td>No</td>\n",
       "    </tr>\n",
       "    <tr>\n",
       "      <th>4</th>\n",
       "      <td>8/7/2020 12:13</td>\n",
       "      <td>Male</td>\n",
       "      <td>23.0</td>\n",
       "      <td>Mathemathics</td>\n",
       "      <td>year 4</td>\n",
       "      <td>3.00 - 3.49</td>\n",
       "      <td>No</td>\n",
       "      <td>No</td>\n",
       "      <td>No</td>\n",
       "      <td>No</td>\n",
       "      <td>No</td>\n",
       "    </tr>\n",
       "  </tbody>\n",
       "</table>\n",
       "</div>"
      ],
      "text/plain": [
       "        Timestamp Choose your gender   Age             Course Year of Study  \\\n",
       "0  8/7/2020 12:02             Female  18.0        Engineering        year 1   \n",
       "1  8/7/2020 12:04               Male  21.0  Islamic education        year 2   \n",
       "2  8/7/2020 12:05               Male  19.0                BIT        Year 1   \n",
       "3  8/7/2020 12:06             Female  22.0               Laws        year 3   \n",
       "4  8/7/2020 12:13               Male  23.0       Mathemathics        year 4   \n",
       "\n",
       "          CGPA Marital status Depression? Anxiety? Panic attack? Treatment  \n",
       "0  3.00 - 3.49             No         Yes       No           Yes        No  \n",
       "1  3.00 - 3.49             No          No      Yes            No        No  \n",
       "2  3.00 - 3.49             No         Yes      Yes           Yes        No  \n",
       "3  3.00 - 3.49            Yes         Yes       No            No        No  \n",
       "4  3.00 - 3.49             No          No       No            No        No  "
      ]
     },
     "execution_count": 5,
     "metadata": {},
     "output_type": "execute_result"
    }
   ],
   "source": [
    "#we can also take a quick look at our data set\n",
    "df.head()"
   ]
  },
  {
   "cell_type": "markdown",
   "id": "cea5fc54",
   "metadata": {},
   "source": [
    "#### Intepretation\n",
    "- By default we can look at the fist 5 values by this function but it can be given an index too"
   ]
  },
  {
   "cell_type": "code",
   "execution_count": 6,
   "id": "37821a04",
   "metadata": {},
   "outputs": [
    {
     "data": {
      "text/html": [
       "<div>\n",
       "<style scoped>\n",
       "    .dataframe tbody tr th:only-of-type {\n",
       "        vertical-align: middle;\n",
       "    }\n",
       "\n",
       "    .dataframe tbody tr th {\n",
       "        vertical-align: top;\n",
       "    }\n",
       "\n",
       "    .dataframe thead th {\n",
       "        text-align: right;\n",
       "    }\n",
       "</style>\n",
       "<table border=\"1\" class=\"dataframe\">\n",
       "  <thead>\n",
       "    <tr style=\"text-align: right;\">\n",
       "      <th></th>\n",
       "      <th>Timestamp</th>\n",
       "      <th>Choose your gender</th>\n",
       "      <th>Age</th>\n",
       "      <th>Course</th>\n",
       "      <th>Year of Study</th>\n",
       "      <th>CGPA</th>\n",
       "      <th>Marital status</th>\n",
       "      <th>Depression?</th>\n",
       "      <th>Anxiety?</th>\n",
       "      <th>Panic attack?</th>\n",
       "      <th>Treatment</th>\n",
       "    </tr>\n",
       "  </thead>\n",
       "  <tbody>\n",
       "    <tr>\n",
       "      <th>0</th>\n",
       "      <td>8/7/2020 12:02</td>\n",
       "      <td>0</td>\n",
       "      <td>18.0</td>\n",
       "      <td>Engineering</td>\n",
       "      <td>year 1</td>\n",
       "      <td>3.00 - 3.49</td>\n",
       "      <td>1</td>\n",
       "      <td>0</td>\n",
       "      <td>1</td>\n",
       "      <td>0</td>\n",
       "      <td>1</td>\n",
       "    </tr>\n",
       "    <tr>\n",
       "      <th>1</th>\n",
       "      <td>8/7/2020 12:04</td>\n",
       "      <td>1</td>\n",
       "      <td>21.0</td>\n",
       "      <td>Islamic education</td>\n",
       "      <td>year 2</td>\n",
       "      <td>3.00 - 3.49</td>\n",
       "      <td>1</td>\n",
       "      <td>1</td>\n",
       "      <td>0</td>\n",
       "      <td>1</td>\n",
       "      <td>1</td>\n",
       "    </tr>\n",
       "    <tr>\n",
       "      <th>2</th>\n",
       "      <td>8/7/2020 12:05</td>\n",
       "      <td>1</td>\n",
       "      <td>19.0</td>\n",
       "      <td>BIT</td>\n",
       "      <td>Year 1</td>\n",
       "      <td>3.00 - 3.49</td>\n",
       "      <td>1</td>\n",
       "      <td>0</td>\n",
       "      <td>0</td>\n",
       "      <td>0</td>\n",
       "      <td>1</td>\n",
       "    </tr>\n",
       "    <tr>\n",
       "      <th>3</th>\n",
       "      <td>8/7/2020 12:06</td>\n",
       "      <td>0</td>\n",
       "      <td>22.0</td>\n",
       "      <td>Laws</td>\n",
       "      <td>year 3</td>\n",
       "      <td>3.00 - 3.49</td>\n",
       "      <td>0</td>\n",
       "      <td>0</td>\n",
       "      <td>1</td>\n",
       "      <td>1</td>\n",
       "      <td>1</td>\n",
       "    </tr>\n",
       "    <tr>\n",
       "      <th>4</th>\n",
       "      <td>8/7/2020 12:13</td>\n",
       "      <td>1</td>\n",
       "      <td>23.0</td>\n",
       "      <td>Mathemathics</td>\n",
       "      <td>year 4</td>\n",
       "      <td>3.00 - 3.49</td>\n",
       "      <td>1</td>\n",
       "      <td>1</td>\n",
       "      <td>1</td>\n",
       "      <td>1</td>\n",
       "      <td>1</td>\n",
       "    </tr>\n",
       "  </tbody>\n",
       "</table>\n",
       "</div>"
      ],
      "text/plain": [
       "        Timestamp  Choose your gender   Age             Course Year of Study  \\\n",
       "0  8/7/2020 12:02                   0  18.0        Engineering        year 1   \n",
       "1  8/7/2020 12:04                   1  21.0  Islamic education        year 2   \n",
       "2  8/7/2020 12:05                   1  19.0                BIT        Year 1   \n",
       "3  8/7/2020 12:06                   0  22.0               Laws        year 3   \n",
       "4  8/7/2020 12:13                   1  23.0       Mathemathics        year 4   \n",
       "\n",
       "          CGPA  Marital status  Depression?  Anxiety?  Panic attack?  \\\n",
       "0  3.00 - 3.49               1            0         1              0   \n",
       "1  3.00 - 3.49               1            1         0              1   \n",
       "2  3.00 - 3.49               1            0         0              0   \n",
       "3  3.00 - 3.49               0            0         1              1   \n",
       "4  3.00 - 3.49               1            1         1              1   \n",
       "\n",
       "   Treatment  \n",
       "0          1  \n",
       "1          1  \n",
       "2          1  \n",
       "3          1  \n",
       "4          1  "
      ]
     },
     "execution_count": 6,
     "metadata": {},
     "output_type": "execute_result"
    }
   ],
   "source": [
    "#Replacing variable\n",
    "df.replace({'Yes':0,'No':1,'Male':1,'Female':0}, inplace=True)\n",
    "df.head()"
   ]
  },
  {
   "cell_type": "code",
   "execution_count": 7,
   "id": "96b58f8f",
   "metadata": {},
   "outputs": [
    {
     "data": {
      "text/html": [
       "<div>\n",
       "<style scoped>\n",
       "    .dataframe tbody tr th:only-of-type {\n",
       "        vertical-align: middle;\n",
       "    }\n",
       "\n",
       "    .dataframe tbody tr th {\n",
       "        vertical-align: top;\n",
       "    }\n",
       "\n",
       "    .dataframe thead th {\n",
       "        text-align: right;\n",
       "    }\n",
       "</style>\n",
       "<table border=\"1\" class=\"dataframe\">\n",
       "  <thead>\n",
       "    <tr style=\"text-align: right;\">\n",
       "      <th></th>\n",
       "      <th>Choose your gender</th>\n",
       "      <th>Age</th>\n",
       "      <th>Marital status</th>\n",
       "      <th>Depression?</th>\n",
       "      <th>Anxiety?</th>\n",
       "      <th>Panic attack?</th>\n",
       "      <th>Treatment</th>\n",
       "    </tr>\n",
       "  </thead>\n",
       "  <tbody>\n",
       "    <tr>\n",
       "      <th>count</th>\n",
       "      <td>101.000000</td>\n",
       "      <td>100.00000</td>\n",
       "      <td>101.000000</td>\n",
       "      <td>101.000000</td>\n",
       "      <td>101.000000</td>\n",
       "      <td>101.000000</td>\n",
       "      <td>101.000000</td>\n",
       "    </tr>\n",
       "    <tr>\n",
       "      <th>mean</th>\n",
       "      <td>0.257426</td>\n",
       "      <td>20.53000</td>\n",
       "      <td>0.841584</td>\n",
       "      <td>0.653465</td>\n",
       "      <td>0.663366</td>\n",
       "      <td>0.673267</td>\n",
       "      <td>0.940594</td>\n",
       "    </tr>\n",
       "    <tr>\n",
       "      <th>std</th>\n",
       "      <td>0.439397</td>\n",
       "      <td>2.49628</td>\n",
       "      <td>0.366952</td>\n",
       "      <td>0.478239</td>\n",
       "      <td>0.474915</td>\n",
       "      <td>0.471358</td>\n",
       "      <td>0.237562</td>\n",
       "    </tr>\n",
       "    <tr>\n",
       "      <th>min</th>\n",
       "      <td>0.000000</td>\n",
       "      <td>18.00000</td>\n",
       "      <td>0.000000</td>\n",
       "      <td>0.000000</td>\n",
       "      <td>0.000000</td>\n",
       "      <td>0.000000</td>\n",
       "      <td>0.000000</td>\n",
       "    </tr>\n",
       "    <tr>\n",
       "      <th>25%</th>\n",
       "      <td>0.000000</td>\n",
       "      <td>18.00000</td>\n",
       "      <td>1.000000</td>\n",
       "      <td>0.000000</td>\n",
       "      <td>0.000000</td>\n",
       "      <td>0.000000</td>\n",
       "      <td>1.000000</td>\n",
       "    </tr>\n",
       "    <tr>\n",
       "      <th>50%</th>\n",
       "      <td>0.000000</td>\n",
       "      <td>19.00000</td>\n",
       "      <td>1.000000</td>\n",
       "      <td>1.000000</td>\n",
       "      <td>1.000000</td>\n",
       "      <td>1.000000</td>\n",
       "      <td>1.000000</td>\n",
       "    </tr>\n",
       "    <tr>\n",
       "      <th>75%</th>\n",
       "      <td>1.000000</td>\n",
       "      <td>23.00000</td>\n",
       "      <td>1.000000</td>\n",
       "      <td>1.000000</td>\n",
       "      <td>1.000000</td>\n",
       "      <td>1.000000</td>\n",
       "      <td>1.000000</td>\n",
       "    </tr>\n",
       "    <tr>\n",
       "      <th>max</th>\n",
       "      <td>1.000000</td>\n",
       "      <td>24.00000</td>\n",
       "      <td>1.000000</td>\n",
       "      <td>1.000000</td>\n",
       "      <td>1.000000</td>\n",
       "      <td>1.000000</td>\n",
       "      <td>1.000000</td>\n",
       "    </tr>\n",
       "  </tbody>\n",
       "</table>\n",
       "</div>"
      ],
      "text/plain": [
       "       Choose your gender        Age  Marital status  Depression?    Anxiety?  \\\n",
       "count          101.000000  100.00000      101.000000   101.000000  101.000000   \n",
       "mean             0.257426   20.53000        0.841584     0.653465    0.663366   \n",
       "std              0.439397    2.49628        0.366952     0.478239    0.474915   \n",
       "min              0.000000   18.00000        0.000000     0.000000    0.000000   \n",
       "25%              0.000000   18.00000        1.000000     0.000000    0.000000   \n",
       "50%              0.000000   19.00000        1.000000     1.000000    1.000000   \n",
       "75%              1.000000   23.00000        1.000000     1.000000    1.000000   \n",
       "max              1.000000   24.00000        1.000000     1.000000    1.000000   \n",
       "\n",
       "       Panic attack?   Treatment  \n",
       "count     101.000000  101.000000  \n",
       "mean        0.673267    0.940594  \n",
       "std         0.471358    0.237562  \n",
       "min         0.000000    0.000000  \n",
       "25%         0.000000    1.000000  \n",
       "50%         1.000000    1.000000  \n",
       "75%         1.000000    1.000000  \n",
       "max         1.000000    1.000000  "
      ]
     },
     "execution_count": 7,
     "metadata": {},
     "output_type": "execute_result"
    }
   ],
   "source": [
    "#we use this function to print summary statistics\n",
    "df.describe()"
   ]
  },
  {
   "cell_type": "markdown",
   "id": "d2f09bd1",
   "metadata": {},
   "source": [
    "#### Intepretation\n",
    "- Here different features such as mean, sd, minimum, maximum etc are described"
   ]
  },
  {
   "cell_type": "code",
   "execution_count": 9,
   "id": "93de9708",
   "metadata": {},
   "outputs": [
    {
     "name": "stdout",
     "output_type": "stream",
     "text": [
      "<class 'pandas.core.frame.DataFrame'>\n",
      "RangeIndex: 101 entries, 0 to 100\n",
      "Data columns (total 11 columns):\n",
      " #   Column              Non-Null Count  Dtype  \n",
      "---  ------              --------------  -----  \n",
      " 0   Timestamp           101 non-null    object \n",
      " 1   Choose your gender  101 non-null    int64  \n",
      " 2   Age                 100 non-null    float64\n",
      " 3   Course              101 non-null    object \n",
      " 4   Year of Study       101 non-null    object \n",
      " 5   CGPA                101 non-null    object \n",
      " 6   Marital status      101 non-null    int64  \n",
      " 7   Depression?         101 non-null    int64  \n",
      " 8   Anxiety?            101 non-null    int64  \n",
      " 9   Panic attack?       101 non-null    int64  \n",
      " 10  Treatment           101 non-null    int64  \n",
      "dtypes: float64(1), int64(6), object(4)\n",
      "memory usage: 8.8+ KB\n"
     ]
    }
   ],
   "source": [
    "#from this function we get the complete information about the dataset\n",
    "df.info()"
   ]
  },
  {
   "cell_type": "markdown",
   "id": "8cc9fd08",
   "metadata": {},
   "source": [
    "#### Intepretation\n",
    "- This feature allows us to be aware about the different kinds of information in our data set\n",
    "- We can know the name of the class of our data set\n",
    "- We also get information about the total range and the total no. of columns\n",
    "- We can see whether a coloumn is null or not\n",
    "- We can know the data types used in the data set\n",
    "- The memory usage of the data set is also specified"
   ]
  },
  {
   "cell_type": "code",
   "execution_count": 12,
   "id": "994327b2",
   "metadata": {},
   "outputs": [
    {
     "data": {
      "text/plain": [
       "Timestamp             0\n",
       "Choose your gender    0\n",
       "Age                   1\n",
       "Course                0\n",
       "Year of Study         0\n",
       "CGPA                  0\n",
       "Marital status        0\n",
       "Depression?           0\n",
       "Anxiety?              0\n",
       "Panic attack?         0\n",
       "Treatment             0\n",
       "dtype: int64"
      ]
     },
     "execution_count": 12,
     "metadata": {},
     "output_type": "execute_result"
    }
   ],
   "source": [
    "#Checking missing values\n",
    "df.isnull().sum()"
   ]
  },
  {
   "cell_type": "code",
   "execution_count": 13,
   "id": "5f9f4ffd",
   "metadata": {},
   "outputs": [
    {
     "data": {
      "text/html": [
       "<div>\n",
       "<style scoped>\n",
       "    .dataframe tbody tr th:only-of-type {\n",
       "        vertical-align: middle;\n",
       "    }\n",
       "\n",
       "    .dataframe tbody tr th {\n",
       "        vertical-align: top;\n",
       "    }\n",
       "\n",
       "    .dataframe thead th {\n",
       "        text-align: right;\n",
       "    }\n",
       "</style>\n",
       "<table border=\"1\" class=\"dataframe\">\n",
       "  <thead>\n",
       "    <tr style=\"text-align: right;\">\n",
       "      <th></th>\n",
       "      <th>Timestamp</th>\n",
       "      <th>Choose your gender</th>\n",
       "      <th>Age</th>\n",
       "      <th>Course</th>\n",
       "      <th>Year of Study</th>\n",
       "      <th>CGPA</th>\n",
       "      <th>Marital status</th>\n",
       "      <th>Depression?</th>\n",
       "      <th>Anxiety?</th>\n",
       "      <th>Panic attack?</th>\n",
       "      <th>Treatment</th>\n",
       "    </tr>\n",
       "  </thead>\n",
       "  <tbody>\n",
       "    <tr>\n",
       "      <th>43</th>\n",
       "      <td>8/7/2020 15:07</td>\n",
       "      <td>1</td>\n",
       "      <td>NaN</td>\n",
       "      <td>BIT</td>\n",
       "      <td>year 1</td>\n",
       "      <td>0 - 1.99</td>\n",
       "      <td>1</td>\n",
       "      <td>1</td>\n",
       "      <td>1</td>\n",
       "      <td>1</td>\n",
       "      <td>1</td>\n",
       "    </tr>\n",
       "  </tbody>\n",
       "</table>\n",
       "</div>"
      ],
      "text/plain": [
       "         Timestamp  Choose your gender  Age Course Year of Study      CGPA  \\\n",
       "43  8/7/2020 15:07                   1  NaN    BIT        year 1  0 - 1.99   \n",
       "\n",
       "    Marital status  Depression?  Anxiety?  Panic attack?  Treatment  \n",
       "43               1            1         1              1          1  "
      ]
     },
     "execution_count": 13,
     "metadata": {},
     "output_type": "execute_result"
    }
   ],
   "source": [
    "#Finding variable missing values\n",
    "df[df.isna().any(axis=1)]"
   ]
  },
  {
   "cell_type": "code",
   "execution_count": 14,
   "id": "0ba26f02",
   "metadata": {},
   "outputs": [
    {
     "data": {
      "text/html": [
       "<div>\n",
       "<style scoped>\n",
       "    .dataframe tbody tr th:only-of-type {\n",
       "        vertical-align: middle;\n",
       "    }\n",
       "\n",
       "    .dataframe tbody tr th {\n",
       "        vertical-align: top;\n",
       "    }\n",
       "\n",
       "    .dataframe thead th {\n",
       "        text-align: right;\n",
       "    }\n",
       "</style>\n",
       "<table border=\"1\" class=\"dataframe\">\n",
       "  <thead>\n",
       "    <tr style=\"text-align: right;\">\n",
       "      <th></th>\n",
       "      <th>Timestamp</th>\n",
       "      <th>Choose your gender</th>\n",
       "      <th>Age</th>\n",
       "      <th>Course</th>\n",
       "      <th>Year of Study</th>\n",
       "      <th>CGPA</th>\n",
       "      <th>Marital status</th>\n",
       "      <th>Depression?</th>\n",
       "      <th>Anxiety?</th>\n",
       "      <th>Panic attack?</th>\n",
       "      <th>Treatment</th>\n",
       "    </tr>\n",
       "  </thead>\n",
       "  <tbody>\n",
       "    <tr>\n",
       "      <th>43</th>\n",
       "      <td>8/7/2020 15:07</td>\n",
       "      <td>1</td>\n",
       "      <td>20</td>\n",
       "      <td>BIT</td>\n",
       "      <td>year 1</td>\n",
       "      <td>0 - 1.99</td>\n",
       "      <td>1</td>\n",
       "      <td>1</td>\n",
       "      <td>1</td>\n",
       "      <td>1</td>\n",
       "      <td>1</td>\n",
       "    </tr>\n",
       "  </tbody>\n",
       "</table>\n",
       "</div>"
      ],
      "text/plain": [
       "         Timestamp  Choose your gender  Age Course Year of Study      CGPA  \\\n",
       "43  8/7/2020 15:07                   1   20    BIT        year 1  0 - 1.99   \n",
       "\n",
       "    Marital status  Depression?  Anxiety?  Panic attack?  Treatment  \n",
       "43               1            1         1              1          1  "
      ]
     },
     "execution_count": 14,
     "metadata": {},
     "output_type": "execute_result"
    }
   ],
   "source": [
    "#Replacing missing value with central tendency\n",
    "df['Age'].fillna(df['Age'].mean(),inplace=True)\n",
    "df['Age'] = df[\"Age\"].astype(int)\n",
    "df.iloc[[43]]"
   ]
  },
  {
   "cell_type": "code",
   "execution_count": 15,
   "id": "5b3f12af",
   "metadata": {},
   "outputs": [
    {
     "data": {
      "text/plain": [
       "Timestamp             92\n",
       "Choose your gender     2\n",
       "Age                    7\n",
       "Course                49\n",
       "Year of Study          7\n",
       "CGPA                   6\n",
       "Marital status         2\n",
       "Depression?            2\n",
       "Anxiety?               2\n",
       "Panic attack?          2\n",
       "Treatment              2\n",
       "dtype: int64"
      ]
     },
     "execution_count": 15,
     "metadata": {},
     "output_type": "execute_result"
    }
   ],
   "source": [
    "#Checking for the number of unique variables per column.\n",
    "df.nunique()"
   ]
  },
  {
   "cell_type": "code",
   "execution_count": 16,
   "id": "1cd38f08",
   "metadata": {},
   "outputs": [
    {
     "data": {
      "text/plain": [
       "array(['year 1', 'year 2', 'Year 1', 'year 3', 'year 4', 'Year 2',\n",
       "       'Year 3'], dtype=object)"
      ]
     },
     "execution_count": 16,
     "metadata": {},
     "output_type": "execute_result"
    }
   ],
   "source": [
    "#Checking unique variables\n",
    "df[\"Year of Study\"].unique()"
   ]
  },
  {
   "cell_type": "code",
   "execution_count": 17,
   "id": "ed83af74",
   "metadata": {},
   "outputs": [
    {
     "data": {
      "text/plain": [
       "array(['Year 1', 'Year 2', 'Year 3', 'Year 4'], dtype=object)"
      ]
     },
     "execution_count": 17,
     "metadata": {},
     "output_type": "execute_result"
    }
   ],
   "source": [
    "#Replacing variables\n",
    "df['Year of Study'].replace(['year 1','year 2','year 3','year 4'],['Year 1','Year 2','Year 3','Year 4'], inplace=True)\n",
    "df[\"Year of Study\"].unique()"
   ]
  },
  {
   "cell_type": "code",
   "execution_count": 18,
   "id": "36eb161d",
   "metadata": {},
   "outputs": [
    {
     "data": {
      "text/plain": [
       "array(['3.00 - 3.49', '3.50 - 4.00', '3.50 - 4.00 ', '2.50 - 2.99',\n",
       "       '2.00 - 2.49', '0 - 1.99'], dtype=object)"
      ]
     },
     "execution_count": 18,
     "metadata": {},
     "output_type": "execute_result"
    }
   ],
   "source": [
    "#Checking unique variables\n",
    "df[\"CGPA\"].unique()"
   ]
  },
  {
   "cell_type": "code",
   "execution_count": 19,
   "id": "c6cbe30a",
   "metadata": {},
   "outputs": [
    {
     "data": {
      "text/plain": [
       "array(['3.00 - 3.49', '3.50 - 4.00', '2.50 - 2.99', '2.00 - 2.49',\n",
       "       '0 - 1.99'], dtype=object)"
      ]
     },
     "execution_count": 19,
     "metadata": {},
     "output_type": "execute_result"
    }
   ],
   "source": [
    "#Replacing variables\n",
    "df.replace({'3.50 - 4.00 ':'3.50 - 4.00'},regex=True,inplace=True)\n",
    "df[\"CGPA\"].unique()"
   ]
  },
  {
   "cell_type": "markdown",
   "id": "2364fab8",
   "metadata": {},
   "source": [
    "## Now we can procced with our EDA cycle"
   ]
  },
  {
   "cell_type": "markdown",
   "id": "d2f7c274",
   "metadata": {},
   "source": [
    "### Histogram"
   ]
  },
  {
   "cell_type": "code",
   "execution_count": 20,
   "id": "1a48a066",
   "metadata": {},
   "outputs": [
    {
     "data": {
      "text/plain": [
       "Index(['Timestamp', 'Choose your gender', 'Age', 'Course', 'Year of Study',\n",
       "       'CGPA', 'Marital status', 'Depression?', 'Anxiety?', 'Panic attack?',\n",
       "       'Treatment'],\n",
       "      dtype='object')"
      ]
     },
     "execution_count": 20,
     "metadata": {},
     "output_type": "execute_result"
    }
   ],
   "source": [
    "#First we check our coloumns\n",
    "df.columns"
   ]
  },
  {
   "cell_type": "code",
   "execution_count": 23,
   "id": "ff59a8c9",
   "metadata": {},
   "outputs": [
    {
     "data": {
      "image/png": "[encoded data removed]",
      "text/plain": [
       "<Figure size 640x480 with 1 Axes>"
      ]
     },
     "metadata": {},
     "output_type": "display_data"
    }
   ],
   "source": [
    "#seaborn histograms\n",
    "sns.histplot(df['Age'], kde=True,bins=12, color='purple',edgecolor='black')\n",
    "#adding labels\n",
    "plt.title('Relationship between Age and Depression')\n",
    "plt.xlabel('Age')\n",
    "plt.ylabel('Depression')\n",
    "plt.show()"
   ]
  },
  {
   "cell_type": "markdown",
   "id": "1e3bf422",
   "metadata": {},
   "source": [
    "### Intepretation\n",
    "- The above figure shows a histogram of the relationship between year of release and global sales\n",
    "- By looking at the kde we find this graph to be multi-modal graph\n",
    "- the max value can be seen at 18 years of age\n",
    "- the min value can be seen at 22 years of age"
   ]
  },
  {
   "cell_type": "markdown",
   "id": "826c7160",
   "metadata": {},
   "source": [
    "## Scatterplot"
   ]
  },
  {
   "cell_type": "code",
   "execution_count": 26,
   "id": "1db31b35",
   "metadata": {},
   "outputs": [
    {
     "data": {
      "image/png": "[encoded data removed]",
      "text/plain": [
       "<Figure size 640x480 with 1 Axes>"
      ]
     },
     "metadata": {},
     "output_type": "display_data"
    }
   ],
   "source": [
    "#Creating a scatterplot\n",
    "sns.scatterplot (x=df['Age'],y=df['Depression?'])\n",
    "\n",
    "#Optionally add labels and a title\n",
    "plt.title('Scatterplot of Age vs Depression')\n",
    "plt.xlabel('Age')\n",
    "plt.ylabel('Depression')\n",
    "\n",
    "#Show the plot\n",
    "plt.show()"
   ]
  },
  {
   "cell_type": "markdown",
   "id": "702b705a",
   "metadata": {},
   "source": [
    "### Intepretation\n",
    "- The above figure is a scatterplot\n",
    "- The scatterplot shows a collection of data"
   ]
  },
  {
   "cell_type": "markdown",
   "id": "f1144cc4",
   "metadata": {},
   "source": [
    "## Line plot"
   ]
  },
  {
   "cell_type": "code",
   "execution_count": 29,
   "id": "1e8d30a5",
   "metadata": {},
   "outputs": [
    {
     "data": {
      "text/plain": [
       "<Axes: xlabel='Age', ylabel='Depression?'>"
      ]
     },
     "execution_count": 29,
     "metadata": {},
     "output_type": "execute_result"
    },
    {
     "data": {
      "image/png": "[encoded data removed]",
      "text/plain": [
       "<Figure size 640x480 with 1 Axes>"
      ]
     },
     "metadata": {},
     "output_type": "display_data"
    }
   ],
   "source": [
    "# line plot \n",
    "sns.lineplot(x='Age',y='Depression?', data=df )"
   ]
  },
  {
   "cell_type": "markdown",
   "id": "fed94d9b",
   "metadata": {},
   "source": [
    "### Intepretation\n",
    "- The above figure is a line plot\n",
    "- From the line plot we can predict the age where most depression cases were seen which is 21"
   ]
  },
  {
   "cell_type": "markdown",
   "id": "108f7a49",
   "metadata": {},
   "source": [
    "### Box Plot"
   ]
  },
  {
   "cell_type": "code",
   "execution_count": 35,
   "id": "a2a9b8e7",
   "metadata": {},
   "outputs": [
    {
     "data": {
      "text/plain": [
       "Text(0.5, 0, 'Depression')"
      ]
     },
     "execution_count": 35,
     "metadata": {},
     "output_type": "execute_result"
    },
    {
     "data": {
      "image/png": "[encoded data removed]",
      "text/plain": [
       "<Figure size 250x250 with 1 Axes>"
      ]
     },
     "metadata": {},
     "output_type": "display_data"
    }
   ],
   "source": [
    "#box plot\n",
    "plt.figure(figsize=(2.5,2.5))\n",
    "sns.boxplot(y = 'Age',data= df, x= 'Depression?')\n",
    "plt.xlabel('Depression')\n"
   ]
  },
  {
   "cell_type": "markdown",
   "id": "3ca04f0d",
   "metadata": {},
   "source": [
    "## Heat Map"
   ]
  },
  {
   "cell_type": "code",
   "execution_count": 36,
   "id": "9a8e4d5c",
   "metadata": {},
   "outputs": [
    {
     "name": "stderr",
     "output_type": "stream",
     "text": [
      "C:\\Users\\Dell\\AppData\\Local\\Temp\\ipykernel_14032\\1752742378.py:2: FutureWarning: The default value of numeric_only in DataFrame.corr is deprecated. In a future version, it will default to False. Select only valid columns or specify the value of numeric_only to silence this warning.\n",
      "  corrmat = df.corr()\n"
     ]
    },
    {
     "data": {
      "image/png": "[encoded data removed]",
      "text/plain": [
       "<Figure size 1600x1200 with 2 Axes>"
      ]
     },
     "metadata": {},
     "output_type": "display_data"
    }
   ],
   "source": [
    "#this is heat map pearson correlation matrix\n",
    "corrmat = df.corr()\n",
    "f, ax = plt.subplots(figsize=(16, 12))\n",
    "sns.heatmap(corrmat, vmax=.8, square=True);"
   ]
  },
  {
   "cell_type": "markdown",
   "id": "4a21de76",
   "metadata": {},
   "source": [
    "### Intepretation\n",
    "- The above figure represents a heat map\n",
    "- Here we can see that age and depression has darker shade which means they have little to no correlation with each other\n",
    "- they dont necessarily depend on one another\n",
    "- having depression does not depend on the age of the person"
   ]
  },
  {
   "cell_type": "markdown",
   "id": "0f93a611",
   "metadata": {},
   "source": [
    "### *From this assignment my objective to find the relationship between age and depression were accomplished. I now know they do not corelate with one another and one dosent have to depend on the other.*\n"
   ]
  },
  {
   "cell_type": "markdown",
   "id": "ff49dd32",
   "metadata": {},
   "source": [
    "## THE END"
   ]
  }
 ],
 "metadata": {
  "kernelspec": {
   "display_name": "Python 3 (ipykernel)",
   "language": "python",
   "name": "python3"
  },
  "language_info": {
   "codemirror_mode": {
    "name": "ipython",
    "version": 3
   },
   "file_extension": ".py",
   "mimetype": "text/x-python",
   "name": "python",
   "nbconvert_exporter": "python",
   "pygments_lexer": "ipython3",
   "version": "3.11.4"
  }
 },
 "nbformat": 4,
 "nbformat_minor": 5
}
